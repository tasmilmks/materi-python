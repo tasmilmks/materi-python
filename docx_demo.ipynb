{
 "cells": [
  {
   "cell_type": "code",
   "execution_count": null,
   "metadata": {},
   "outputs": [],
   "source": [
    "from docx import Document\n",
    "from docx.shared import Cm"
   ]
  },
  {
   "cell_type": "code",
   "execution_count": null,
   "metadata": {},
   "outputs": [],
   "source": [
    "# Fungsi tambahan\n",
    "from docx.oxml import OxmlElement\n",
    "from docx.oxml.ns import qn\n",
    "def AddAutoFig(paragraph, entry):\n",
    "    run = paragraph.add_run()\n",
    "    r = run._r\n",
    "    fldChar = OxmlElement('w:fldChar')\n",
    "    fldChar.set(qn('w:fldCharType'), 'begin')\n",
    "    r.append(fldChar)\n",
    "    \n",
    "    instrText = OxmlElement('w:instrText')\n",
    "    instrText.text = ' SEQ Figure \\\\* ARABIC'\n",
    "    r.append(instrText)\n",
    "    \n",
    "    fldChar = OxmlElement('w:fldChar')\n",
    "    fldChar.set(qn('w:fldCharType'), 'end')\n",
    "    r.append(fldChar)\n",
    "    \n",
    "    run = paragraph.add_run()\n",
    "    r = run._r\n",
    "    instrText = OxmlElement('w:t')\n",
    "    instrText.set(qn('xml:space'), 'preserve')\n",
    "    instrText.text = ': '\n",
    "    r.append(instrText)\n",
    "    \n",
    "    run = paragraph.add_run()\n",
    "    r = run._r\n",
    "    instrText = OxmlElement('w:t')\n",
    "    instrText.text = entry\n",
    "    r.append(instrText)\n",
    "\n",
    "def CptFig(document, entry):\n",
    "    paragraph = document.add_paragraph('Gambar ', style='Caption')\n",
    "    AddAutoFig(paragraph,entry)    "
   ]
  },
  {
   "cell_type": "code",
   "execution_count": null,
   "metadata": {},
   "outputs": [],
   "source": [
    "document = Document()"
   ]
  },
  {
   "cell_type": "code",
   "execution_count": null,
   "metadata": {},
   "outputs": [],
   "source": [
    "# Document, paragraph, run\n",
    "p = document.add_paragraph('A plain paragraph having some ')\n",
    "p.add_run('bold').bold = True\n",
    "p.add_run(' and some ')\n",
    "p.add_run('italic.').italic = True\n"
   ]
  },
  {
   "cell_type": "code",
   "execution_count": null,
   "metadata": {},
   "outputs": [],
   "source": [
    "# style\n",
    "document.add_paragraph('Intense quote', style='Intense Quote')\n",
    "\n",
    "document.add_paragraph('first item in unordered list', style='List Bullet')\n",
    "document.add_paragraph('first item in ordered list', style='List Number')\n"
   ]
  },
  {
   "cell_type": "code",
   "execution_count": null,
   "metadata": {},
   "outputs": [],
   "source": [
    "# heading\n",
    "document.add_heading('Document Title', 0)\n",
    "document.add_heading(‘Heading, level 1’, 1)\n"
   ]
  },
  {
   "cell_type": "code",
   "execution_count": null,
   "metadata": {},
   "outputs": [],
   "source": [
    "# table\n",
    "\n",
    "records = (\n",
    "    (3, '101', 'Spam'),\n",
    "    (7, '422', 'Eggs'),\n",
    "    (4, '631', 'Spam, spam, eggs, and spam')\n",
    ")\n",
    "\n",
    "table = document.add_table(rows=1, cols=3)\n",
    "hdr_cells = table.rows[0].cells\n",
    "hdr_cells[0].text = 'Qty'\n",
    "hdr_cells[1].text = 'Id'\n",
    "hdr_cells[2].text = 'Desc'\n",
    "for qty, id, desc in records:\n",
    "    row_cells = table.add_row().cells\n",
    "    row_cells[0].text = str(qty)\n",
    "    row_cells[1].text = id\n",
    "    row_cells[2].text = desc\n",
    "\n"
   ]
  },
  {
   "cell_type": "code",
   "execution_count": null,
   "metadata": {},
   "outputs": [],
   "source": [
    "# picture\n",
    "\n",
    "document.add_picture('000000465129.jpg', width=Cm(13.5))\n"
   ]
  },
  {
   "cell_type": "code",
   "execution_count": null,
   "metadata": {},
   "outputs": [],
   "source": [
    "# insert figure caption\n",
    "\n",
    "CptFig(document,\"Test\")"
   ]
  },
  {
   "cell_type": "code",
   "execution_count": null,
   "metadata": {},
   "outputs": [],
   "source": [
    "# Save docx\n",
    "\n",
    "document.save('demo.docx')"
   ]
  },
  {
   "cell_type": "code",
   "execution_count": null,
   "metadata": {},
   "outputs": [],
   "source": []
  }
 ],
 "metadata": {
  "kernelspec": {
   "display_name": "Python 3",
   "language": "python",
   "name": "python3"
  },
  "language_info": {
   "codemirror_mode": {
    "name": "ipython",
    "version": 3
   },
   "file_extension": ".py",
   "mimetype": "text/x-python",
   "name": "python",
   "nbconvert_exporter": "python",
   "pygments_lexer": "ipython3",
   "version": "3.7.3"
  }
 },
 "nbformat": 4,
 "nbformat_minor": 2
}
