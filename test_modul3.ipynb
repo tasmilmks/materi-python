{
  "nbformat": 4,
  "nbformat_minor": 0,
  "metadata": {
    "colab": {
      "name": "test modul3.ipynb",
      "provenance": [],
      "collapsed_sections": [],
      "authorship_tag": "ABX9TyPfgTCb9Ewkzq8L8LlF7sZr",
      "include_colab_link": true
    },
    "kernelspec": {
      "name": "python3",
      "display_name": "Python 3"
    }
  },
  "cells": [
    {
      "cell_type": "markdown",
      "metadata": {
        "id": "view-in-github",
        "colab_type": "text"
      },
      "source": [
        "<a href=\"https://colab.research.google.com/github/tasmilmks/materi-python/blob/master/test_modul3.ipynb\" target=\"_parent\"><img src=\"https://colab.research.google.com/assets/colab-badge.svg\" alt=\"Open In Colab\"/></a>"
      ]
    },
    {
      "cell_type": "code",
      "metadata": {
        "id": "rhRw5_QoKxON",
        "colab_type": "code",
        "colab": {
          "base_uri": "https://localhost:8080/",
          "height": 51
        },
        "outputId": "66739a59-535d-439f-c3a4-ba3c6177d545"
      },
      "source": [
        "tanaman=input(\"Masukkan nama tanaman : \")\n",
        "\n",
        "if tanaman==\"spathiphyllum\":\n",
        "    print(\"No, I want a big Spathiphyllum!\")\n",
        "if tanaman==\"pelargonium\":\n",
        "    print(\"Spathiphyllum! Not pelargonium!\")\n",
        "if tanaman==\"Spathiphyllum\":\n",
        "    print(\"Yes - Spathiphyllum is the best plant ever!\")"
      ],
      "execution_count": null,
      "outputs": [
        {
          "output_type": "stream",
          "text": [
            "Masukkan nama tanaman : Spathiphyllum\n",
            "Yes - Spathiphyllum is the best plant ever!\n"
          ],
          "name": "stdout"
        }
      ]
    },
    {
      "cell_type": "code",
      "metadata": {
        "id": "68K1mL__4LMN",
        "colab_type": "code",
        "colab": {
          "base_uri": "https://localhost:8080/",
          "height": 102
        },
        "outputId": "79e10034-66a6-4a52-8b34-b083f71330c3"
      },
      "source": [
        "kata=\"chupacabra\"\n",
        "while True:\n",
        "    masuk=input(\"masukkan kata : \")\n",
        "    if masuk==kata:\n",
        "       print(\"You've successfully left the loop.\")\n",
        "       break\n",
        "   \n",
        "    "
      ],
      "execution_count": null,
      "outputs": [
        {
          "output_type": "stream",
          "text": [
            "masukkan kata : fdfsd\n",
            "masukkan kata : sda\n",
            "masukkan kata : fsaf\n",
            "masukkan kata : chupacabra\n",
            "You've successfully left the loop.\n"
          ],
          "name": "stdout"
        }
      ]
    },
    {
      "cell_type": "code",
      "metadata": {
        "id": "LPj221JISm71",
        "colab_type": "code",
        "colab": {
          "base_uri": "https://localhost:8080/",
          "height": 51
        },
        "outputId": "70331256-aac2-43a5-dcd8-afb6c93cc0ec"
      },
      "source": [
        "blocks = int(input(\"Enter the number of blocks: \"))\n",
        "height=0\n",
        "current_block=0\n",
        "#\n",
        "# Write your code here.\n",
        "#\t\n",
        "i=0\n",
        "while i <blocks:\n",
        "    if current_block > blocks:\n",
        "        break\n",
        "    height+=1    \n",
        "    current_block+=height\n",
        "    i+=1\n",
        "height-=1  "
      ],
      "execution_count": null,
      "outputs": [
        {
          "output_type": "stream",
          "text": [
            "Enter the number of blocks: 6\n",
            "The height of the pyramid: 3\n"
          ],
          "name": "stdout"
        }
      ]
    },
    {
      "cell_type": "code",
      "metadata": {
        "id": "h9GAdasuT6Rz",
        "colab_type": "code",
        "colab": {
          "base_uri": "https://localhost:8080/",
          "height": 34
        },
        "outputId": "b2c6c5f5-dcee-4f6d-b20b-2a6169302105"
      },
      "source": [
        "x = 4      00100\n",
        "y = 1      00001     \n",
        "\n",
        "a = x & y   00000\n",
        "b = x | y   00101\n",
        "c = ~x      00100-->00\n",
        "d = x ^ 5   00100 ^ 00101 --> 00001\n",
        "e = x >> 2  00001\n",
        "f = x << 2  10000\n",
        "\n",
        "print(a, b, c, d, e, f)"
      ],
      "execution_count": null,
      "outputs": [
        {
          "output_type": "stream",
          "text": [
            "0 5 -5 1 1 16\n"
          ],
          "name": "stdout"
        }
      ]
    },
    {
      "cell_type": "code",
      "metadata": {
        "id": "XahbHJYxa3Nu",
        "colab_type": "code",
        "colab": {
          "base_uri": "https://localhost:8080/",
          "height": 34
        },
        "outputId": "62652427-ceaf-4a55-9986-b6ddf39bb10e"
      },
      "source": [
        "lst=[8,6,10,9,5]\n",
        "for passnum in range(len(lst)-1,0,-1):\n",
        "  for i in range(passnum):\n",
        "    if lst[i]>lst[i+1]:\n",
        "      temp=lst[i]\n",
        "      lst[i]=lst[i+1]\n",
        "      lst[i+1]=temp\n",
        "print(lst)\n"
      ],
      "execution_count": null,
      "outputs": [
        {
          "output_type": "stream",
          "text": [
            "[5, 6, 8, 9, 10]\n"
          ],
          "name": "stdout"
        }
      ]
    },
    {
      "cell_type": "code",
      "metadata": {
        "id": "O0az08S-_C45",
        "colab_type": "code",
        "colab": {
          "base_uri": "https://localhost:8080/",
          "height": 34
        },
        "outputId": "22fb3dbb-a06e-4b29-c9b7-d2e74ca7e735"
      },
      "source": [
        "lst=[8,6,10,3,4]\n",
        "for passnum in range(len(lst)-1,0,-1):\n",
        "  for i in range(passnum):\n",
        "    if lst[i]<lst[i+1]:\n",
        "      temp=lst[i]\n",
        "      lst[i]=lst[i+1]\n",
        "      lst[i+1]=temp\n",
        "print(lst)"
      ],
      "execution_count": null,
      "outputs": [
        {
          "output_type": "stream",
          "text": [
            "[10, 8, 6, 4, 3]\n"
          ],
          "name": "stdout"
        }
      ]
    },
    {
      "cell_type": "code",
      "metadata": {
        "id": "vqP8r1jLESup",
        "colab_type": "code",
        "colab": {
          "base_uri": "https://localhost:8080/",
          "height": 51
        },
        "outputId": "2b05bc9f-d2e3-4332-ddea-58b6742d5e9f"
      },
      "source": [
        "for i in range(-1,1):\n",
        "  print(\"#\")"
      ],
      "execution_count": null,
      "outputs": [
        {
          "output_type": "stream",
          "text": [
            "#\n",
            "#\n"
          ],
          "name": "stdout"
        }
      ]
    },
    {
      "cell_type": "code",
      "metadata": {
        "id": "Q8sSoR0_Eozq",
        "colab_type": "code",
        "colab": {
          "base_uri": "https://localhost:8080/",
          "height": 130
        },
        "outputId": "8c134638-29c2-4af2-9588-c74001779d2b"
      },
      "source": [
        "z=10\n",
        "y=0\n",
        "x=z>yor z==y"
      ],
      "execution_count": null,
      "outputs": [
        {
          "output_type": "error",
          "ename": "SyntaxError",
          "evalue": "ignored",
          "traceback": [
            "\u001b[0;36m  File \u001b[0;32m\"<ipython-input-37-abb01e877d5f>\"\u001b[0;36m, line \u001b[0;32m3\u001b[0m\n\u001b[0;31m    x=z>yor z==y\u001b[0m\n\u001b[0m            ^\u001b[0m\n\u001b[0;31mSyntaxError\u001b[0m\u001b[0;31m:\u001b[0m invalid syntax\n"
          ]
        }
      ]
    },
    {
      "cell_type": "code",
      "metadata": {
        "id": "ksiV3U07FNgb",
        "colab_type": "code",
        "colab": {}
      },
      "source": [
        "vals=[0,1,2]\n",
        "vals[0],vals[1]=vals[1],vals[2]"
      ],
      "execution_count": null,
      "outputs": []
    },
    {
      "cell_type": "code",
      "metadata": {
        "id": "pIlmMsjGKkYf",
        "colab_type": "code",
        "colab": {
          "base_uri": "https://localhost:8080/",
          "height": 34
        },
        "outputId": "904f996d-4ef1-4b9c-9436-444ea7b99052"
      },
      "source": [
        "x=1\n",
        "x=x==x\n",
        "print(x)"
      ],
      "execution_count": null,
      "outputs": [
        {
          "output_type": "stream",
          "text": [
            "True\n"
          ],
          "name": "stdout"
        }
      ]
    },
    {
      "cell_type": "code",
      "metadata": {
        "id": "Epdv1IU1K5A6",
        "colab_type": "code",
        "colab": {
          "base_uri": "https://localhost:8080/",
          "height": 34
        },
        "outputId": "8459525b-d300-489a-97c2-6e3c9c71f249"
      },
      "source": [
        "lst=[3,1,-2]\n",
        "print(lst[lst[-1]])"
      ],
      "execution_count": null,
      "outputs": [
        {
          "output_type": "stream",
          "text": [
            "1\n"
          ],
          "name": "stdout"
        }
      ]
    },
    {
      "cell_type": "code",
      "metadata": {
        "id": "Mpmp0XfNL4Gu",
        "colab_type": "code",
        "colab": {
          "base_uri": "https://localhost:8080/",
          "height": 85
        },
        "outputId": "0ea30a37-5300-4d90-d831-d41107b8ad66"
      },
      "source": [
        "var=1\n",
        "while var <10:\n",
        "  print(\"#\")\n",
        "  var=var<<1"
      ],
      "execution_count": null,
      "outputs": [
        {
          "output_type": "stream",
          "text": [
            "#\n",
            "#\n",
            "#\n",
            "#\n"
          ],
          "name": "stdout"
        }
      ]
    },
    {
      "cell_type": "code",
      "metadata": {
        "id": "hZWU0qRRMM5_",
        "colab_type": "code",
        "colab": {
          "base_uri": "https://localhost:8080/",
          "height": 51
        },
        "outputId": "73191213-b2d8-473d-b9aa-3b5fc14dd728"
      },
      "source": [
        "for i in range(1):\n",
        "  print(\"#\")\n",
        "else:\n",
        "  print(\"#\")"
      ],
      "execution_count": null,
      "outputs": [
        {
          "output_type": "stream",
          "text": [
            "#\n",
            "#\n"
          ],
          "name": "stdout"
        }
      ]
    },
    {
      "cell_type": "code",
      "metadata": {
        "id": "aSpp-1S6Mlre",
        "colab_type": "code",
        "colab": {
          "base_uri": "https://localhost:8080/",
          "height": 34
        },
        "outputId": "2fc3a586-0b5d-4f56-833f-7446941901fc"
      },
      "source": [
        "lst=[1,2,3]\n",
        "lst2=[]\n",
        "for v in lst:\n",
        "  lst2.insert(0,v)\n",
        "print(lst2)"
      ],
      "execution_count": null,
      "outputs": [
        {
          "output_type": "stream",
          "text": [
            "[3, 2, 1]\n"
          ],
          "name": "stdout"
        }
      ]
    },
    {
      "cell_type": "code",
      "metadata": {
        "id": "c9XDxiHPNJxy",
        "colab_type": "code",
        "colab": {
          "base_uri": "https://localhost:8080/",
          "height": 130
        },
        "outputId": "e8bc4e38-473d-4fe8-f8f4-28f37c405426"
      },
      "source": [
        "lst=([[0,1,2,3] for i in range(2)]\n",
        "     print(lst[2][0])"
      ],
      "execution_count": null,
      "outputs": [
        {
          "output_type": "error",
          "ename": "SyntaxError",
          "evalue": "ignored",
          "traceback": [
            "\u001b[0;36m  File \u001b[0;32m\"<ipython-input-53-0492177376b5>\"\u001b[0;36m, line \u001b[0;32m2\u001b[0m\n\u001b[0;31m    print(lst[2][0])\u001b[0m\n\u001b[0m        ^\u001b[0m\n\u001b[0;31mSyntaxError\u001b[0m\u001b[0;31m:\u001b[0m invalid syntax\n"
          ]
        }
      ]
    },
    {
      "cell_type": "code",
      "metadata": {
        "id": "B_Pv5QcCNn0T",
        "colab_type": "code",
        "colab": {
          "base_uri": "https://localhost:8080/",
          "height": 34
        },
        "outputId": "dc9d83b6-2fa7-41aa-9326-775cae83395c"
      },
      "source": [
        "vals=[0,1,2]\n",
        "vals.insert(0,1)\n",
        "del vals[1]\n",
        "print (vals)"
      ],
      "execution_count": null,
      "outputs": [
        {
          "output_type": "stream",
          "text": [
            "[1, 1, 2]\n"
          ],
          "name": "stdout"
        }
      ]
    },
    {
      "cell_type": "code",
      "metadata": {
        "id": "a8isOnkAON0X",
        "colab_type": "code",
        "colab": {
          "base_uri": "https://localhost:8080/",
          "height": 34
        },
        "outputId": "58b48698-a678-4c16-8c24-44a1b5c31c28"
      },
      "source": [
        "lst=[i for i in range(-1,2)]\n",
        "print (lst)"
      ],
      "execution_count": null,
      "outputs": [
        {
          "output_type": "stream",
          "text": [
            "[-1, 0, 1]\n"
          ],
          "name": "stdout"
        }
      ]
    },
    {
      "cell_type": "code",
      "metadata": {
        "id": "6Rgs47A2O2Gk",
        "colab_type": "code",
        "colab": {
          "base_uri": "https://localhost:8080/",
          "height": 34
        },
        "outputId": "d771db8b-de7e-440b-a2f0-e84144c7b64c"
      },
      "source": [
        "num=[1,2,3]\n",
        "vals=num\n",
        "del vals[1:2]\n",
        "print(vals)"
      ],
      "execution_count": null,
      "outputs": [
        {
          "output_type": "stream",
          "text": [
            "[1, 3]\n"
          ],
          "name": "stdout"
        }
      ]
    },
    {
      "cell_type": "code",
      "metadata": {
        "id": "pDsv_VqxPTkp",
        "colab_type": "code",
        "colab": {
          "base_uri": "https://localhost:8080/",
          "height": 34
        },
        "outputId": "f6cddebc-92e3-4eda-846d-ff79ecca1696"
      },
      "source": [
        "t=[[3-i for i in range(3)] for j in range(3)]\n",
        "s=0\n",
        "for i in range(3):\n",
        "  s+=t[i][i]\n",
        "print(s)"
      ],
      "execution_count": null,
      "outputs": [
        {
          "output_type": "stream",
          "text": [
            "6\n"
          ],
          "name": "stdout"
        }
      ]
    },
    {
      "cell_type": "code",
      "metadata": {
        "id": "HD_Kv8uBUmCk",
        "colab_type": "code",
        "colab": {}
      },
      "source": [
        ""
      ],
      "execution_count": null,
      "outputs": []
    },
    {
      "cell_type": "code",
      "metadata": {
        "id": "rNFUJuhlSLay",
        "colab_type": "code",
        "colab": {
          "base_uri": "https://localhost:8080/",
          "height": 34
        },
        "outputId": "184b4284-6a56-4884-f6c4-72467c3b3632"
      },
      "source": [
        "1%2"
      ],
      "execution_count": 1,
      "outputs": [
        {
          "output_type": "execute_result",
          "data": {
            "text/plain": [
              "1"
            ]
          },
          "metadata": {
            "tags": []
          },
          "execution_count": 1
        }
      ]
    },
    {
      "cell_type": "code",
      "metadata": {
        "id": "JLOfgYqB7KNR",
        "colab_type": "code",
        "colab": {
          "base_uri": "https://localhost:8080/",
          "height": 34
        },
        "outputId": "7451b6ad-80a6-499e-bf3e-fc6c583edd68"
      },
      "source": [
        "lst=[8,4,10,9,7]\n",
        "for passnum in range(len(lst)-1,0,-1):\n",
        "  max=0\n",
        "  for i in range(1,passnum+1):\n",
        "    if lst[i]>lst[max]:\n",
        "      max=i\n",
        "  temp=lst[passnum]\n",
        "  lst[passnum]=lst[max]\n",
        "  lst[max]=temp\n",
        "print(lst)"
      ],
      "execution_count": null,
      "outputs": [
        {
          "output_type": "stream",
          "text": [
            "[4, 7, 8, 9, 10]\n"
          ],
          "name": "stdout"
        }
      ]
    }
  ]
}